{
 "cells": [
  {
   "metadata": {},
   "cell_type": "markdown",
   "source": [
    "# How to make tests using the eWaterCycle test framework\n",
    "\n",
    "In this notebook it is shown how you can create a test bank and tests using the ewatercycle-model-testing system. The following topics are covered: How to create a test, the configurations a test can be in and how to make a test bank."
   ],
   "id": "682661b49adfbaa6"
  },
  {
   "metadata": {},
   "cell_type": "code",
   "source": [
    "import ewatercycle\n",
    "\n",
    "from test_result import TestResult\n",
    "from test_suite import TestSuite\n",
    "from test import Test, TestType\n",
    "from test_bank import TestBank\n",
    "from parse_submission import ParseSubmission\n",
    "import mocks\n",
    "import yaml"
   ],
   "id": "7c53996011368a84",
   "outputs": [],
   "execution_count": null
  },
  {
   "metadata": {},
   "cell_type": "markdown",
   "source": "To mark a test we use decorators, these are used as follows:",
   "id": "692a7e7a03e23de8"
  },
  {
   "metadata": {},
   "cell_type": "code",
   "source": [
    "@Test(name=\"This is the name of the test\", description=\"this is where you explain your test\", critical=True, enabled=True, test_type=TestType.BOTH)\n",
    "def myFirstTest(model, discharge_name):\n",
    "    print(\"I am testing something...\")\n",
    "    return TestResult(True, \"I indeed made a test!\")"
   ],
   "id": "c8b3eb18138bc9d0",
   "outputs": [],
   "execution_count": null
  },
  {
   "metadata": {},
   "cell_type": "markdown",
   "source": [
    "Name can be used to give your test a custom name, if you do not specify a name the test will have the name of the test method you create.\\\n",
    " Description is where you can give extra info on your test (for example what does it test). \\\n",
    "The boolean critical describes if a test will give a warning or an error, if false the test will give a warning, if one of these tests fail the test suite can still pass. If critical is true it will be considered an error, a hard barrier that fails the entire test suite until it is fixed.\\\n",
    "The enabled boolean controls if a test is enabled, this can be used for when one specific test keeps failing, and you do not want to rerun your entire test suite. \\\n",
    "With test_type you can specify what types of models this test should be run on, if not specified all tests will be run. "
   ],
   "id": "cf01d7cec84f3406"
  },
  {
   "metadata": {},
   "cell_type": "markdown",
   "source": "Now lets run this test, this is all boilerplate that is done behind the scenes and changed to make the testing procedure more visual:",
   "id": "1c3e49f43a5818ea"
  },
  {
   "metadata": {},
   "cell_type": "code",
   "source": [
    "test_suite: TestSuite = TestSuite()\n",
    "model = mocks.worstModelMock()  \n",
    "result = test_suite.tests[\"This is the name of the test\"].run(model, _)\n",
    "print(yaml.dump(result))"
   ],
   "id": "e8ec453569f560d4",
   "outputs": [],
   "execution_count": null
  },
  {
   "metadata": {},
   "cell_type": "markdown",
   "source": "Now to make a test that actually tests something, this test will test if the .time method is implemented for a model.",
   "id": "4782fb17f8bec397"
  },
  {
   "metadata": {},
   "cell_type": "code",
   "source": [
    "@Test(description=\"This test sees if the .time method is implemented\", critical=True, enabled=True)\n",
    "def myFirstCrash(model, _):\n",
    "    model.time\n",
    "    return TestResult(True, \"time is called properly!\")"
   ],
   "id": "799fcbdaad28fdb1",
   "outputs": [],
   "execution_count": null
  },
  {
   "metadata": {},
   "cell_type": "markdown",
   "source": "Now let's run this test:",
   "id": "80e7c9a551c1e5ed"
  },
  {
   "metadata": {},
   "cell_type": "code",
   "source": [
    "myFirstTest.enabled = False\n",
    "result = test_suite.tests[\"myFirstCrash\"].run(model, _)\n",
    "print(yaml.dump(result))"
   ],
   "id": "7ced24c31af3e50e",
   "outputs": [],
   "execution_count": null
  },
  {
   "metadata": {},
   "cell_type": "markdown",
   "source": "As you see there was an error and the test suite stopped running, this is because the worstModel does not implement the .time method and throws an error. ",
   "id": "aedfd24bdc1af4c8"
  },
  {
   "metadata": {},
   "cell_type": "markdown",
   "source": "To counteract these crashes we recommend you write your tests using a try-except clause as follows:",
   "id": "e58a0f51f6275e7c"
  },
  {
   "metadata": {},
   "cell_type": "code",
   "source": [
    "@Test(description=\"This test sees if the .time method is implemented\", critical=True, enabled=True)\n",
    "def myFirstExcept(model, _):\n",
    "    try:\n",
    "        model.time\n",
    "        return TestResult(True, \"time is called properly!\")\n",
    "    except:\n",
    "        return TestResult(False, \"Test failed when calling following methods: .time\")"
   ],
   "id": "94d1c2917099a1ef",
   "outputs": [],
   "execution_count": null
  },
  {
   "metadata": {},
   "cell_type": "markdown",
   "source": "Now let's try out this test:",
   "id": "11c368f3f5b89cc5"
  },
  {
   "metadata": {},
   "cell_type": "code",
   "source": [
    "myFirstCrash.enabled = False\n",
    "result = test_suite.tests[\"myFirstExcept\"].run(model, _)\n",
    "print(yaml.dump(result))"
   ],
   "id": "9a2353791d036789",
   "outputs": [],
   "execution_count": null
  },
  {
   "metadata": {},
   "cell_type": "markdown",
   "source": "As you see it fails, now let's try this test on a mock that does implement time.",
   "id": "3c4f736674a0c31f"
  },
  {
   "metadata": {},
   "cell_type": "code",
   "source": [
    "model = mocks.BasicModelMock()\n",
    "result = test_suite.tests[\"myFirstExcept\"].run(model, _)\n",
    "print(yaml.dump(result))"
   ],
   "id": "547ae5421205f9b3",
   "outputs": [],
   "execution_count": null
  },
  {
   "metadata": {},
   "cell_type": "markdown",
   "source": "Now to move on to the concept of TestBanks, TestBanks can be seen as groups of tests. Similar to Tests TestBanks are denoted using decorators as such:",
   "id": "e6fb3b2ca9470ca6"
  },
  {
   "metadata": {},
   "cell_type": "code",
   "source": [
    "@TestBank(description=\"Tests if errors are thrown when incorrect variables are called\")\n",
    "class ExampleBank:\n",
    "    \n",
    "    @staticmethod\n",
    "    @Test(description=\"some test\", critical=True, enabled=True)\n",
    "    def bank_test(model, _):\n",
    "        return TestResult(True, \"Bank test\")\n",
    "    \n",
    "    @staticmethod\n",
    "    @Test(description=\"some other test\", critical=True, enabled=True)\n",
    "    def other_test(model, _):\n",
    "        return TestResult(True, \"Other test\")\n",
    "\n",
    "@TestBank(description=\"Tests if errors are thrown when incorrect variables are called\")\n",
    "class AnotherExampleBank:\n",
    "    \n",
    "    @staticmethod\n",
    "    @Test(description=\"some test\", critical=True, enabled=True)\n",
    "    def another_bank_test(model, _):\n",
    "        return TestResult(True, \"another Bank test\")\n",
    "    \n",
    "    @staticmethod\n",
    "    @Test(description=\"some other test\", critical=True, enabled=True)\n",
    "    def another_other_test(model, _):\n",
    "        return TestResult(True, \"another Other test\")\n",
    "        "
   ],
   "id": "9aa425eb030a496d",
   "outputs": [],
   "execution_count": null
  },
  {
   "metadata": {},
   "cell_type": "markdown",
   "source": "The test bank decorator holds a description of the test bank, use this to denote what a test bank has been designed to test.",
   "id": "4fb92272091004f3"
  },
  {
   "metadata": {},
   "cell_type": "markdown",
   "source": "Now to run these tests (once again this code is for demonstration of tests only, it is not run like this in actuality):",
   "id": "e5ee78e49b2c3f31"
  },
  {
   "metadata": {},
   "cell_type": "code",
   "source": [
    "myFirstExcept.enabled = False\n",
    "model = mocks.BasicModelMock()\n",
    "results = []\n",
    "for (testbank_name, values) in test_suite.test_banks.items():\n",
    "    for test in values.tests:\n",
    "        if test.enabled != False: \n",
    "            results.append(test.run(model, _))\n",
    "print(yaml.dump(results))"
   ],
   "id": "4f542e0c707ba04c",
   "outputs": [],
   "execution_count": null
  },
  {
   "metadata": {},
   "cell_type": "markdown",
   "source": "Because they are a group you can disable them as such:",
   "id": "bc308b55884f951e"
  },
  {
   "metadata": {},
   "cell_type": "code",
   "source": "AnotherExampleBank.disable_all()",
   "id": "9a799083b130ec00",
   "outputs": [],
   "execution_count": null
  },
  {
   "metadata": {},
   "cell_type": "markdown",
   "source": "Now to run it on a mock version of the test system:",
   "id": "5b63a2291b09124b"
  },
  {
   "metadata": {},
   "cell_type": "code",
   "source": [
    "model = mocks.BasicModelMock()\n",
    "results = []\n",
    "for (testbank_name, values) in test_suite.test_banks.items():\n",
    "    for test in values.tests:\n",
    "        if test.enabled != False: \n",
    "            results.append(test.run(model, _))\n",
    "print(yaml.dump(results))"
   ],
   "id": "aa42d251719825b6",
   "outputs": [],
   "execution_count": null
  },
  {
   "metadata": {},
   "cell_type": "markdown",
   "source": "As you can see all the tests in AnotherExampleBank are no longer run, this is because they have all been disabled. You can turn the tests back on like this:",
   "id": "33e839d6a8c9ce31"
  },
  {
   "metadata": {},
   "cell_type": "code",
   "source": "AnotherExampleBank.enable_all()",
   "id": "7e4aa6642f646101",
   "outputs": [],
   "execution_count": null
  },
  {
   "metadata": {},
   "cell_type": "markdown",
   "source": "As the test bank has been enabled again the tests should now run again:",
   "id": "33ab1d5c50305a75"
  },
  {
   "metadata": {},
   "cell_type": "code",
   "source": [
    "model = mocks.BasicModelMock()\n",
    "results = []\n",
    "for (testbank_name, values) in test_suite.test_banks.items():\n",
    "    for test in values.tests:\n",
    "        if test.enabled != False: \n",
    "            results.append(test.run(model, _))\n",
    "print(yaml.dump(results))"
   ],
   "id": "268f50783d009d96",
   "outputs": [],
   "execution_count": null
  },
  {
   "metadata": {},
   "cell_type": "markdown",
   "source": "That concludes the basics of how to make a test through the ewatercycle-model-testing system.",
   "id": "2ea04fb2c81f9827"
  }
 ],
 "metadata": {
  "kernelspec": {
   "display_name": "Python 3",
   "language": "python",
   "name": "python3"
  },
  "language_info": {
   "codemirror_mode": {
    "name": "ipython",
    "version": 2
   },
   "file_extension": ".py",
   "mimetype": "text/x-python",
   "name": "python",
   "nbconvert_exporter": "python",
   "pygments_lexer": "ipython2",
   "version": "2.7.6"
  }
 },
 "nbformat": 4,
 "nbformat_minor": 5
}
