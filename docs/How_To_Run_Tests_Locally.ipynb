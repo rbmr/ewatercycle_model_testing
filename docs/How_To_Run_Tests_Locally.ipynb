{
 "cells": [
  {
   "metadata": {},
   "cell_type": "markdown",
   "source": [
    "# Local test running notebook\n",
    "\n",
    "This notebook can be used to run tests on your model locally.\n"
   ],
   "id": "8dd3220ce3845cb0"
  },
  {
   "metadata": {},
   "cell_type": "code",
   "source": [
    "import os.path\n",
    "import yaml\n",
    "import ewatercycle\n",
    "\n",
    "from test_suite import TestSuite\n",
    "from test_report_maker import GenerateReport\n",
    "from parse_submission import ParseSubmission\n",
    "import constants as c\n",
    "\n",
    "# These are the test banks, you can add your own by importing it\n",
    "import spec_tests\n",
    "import metric_tests\n",
    "import bmi_spec_tests\n",
    "import scenario_tests\n",
    "import error_tests"
   ],
   "id": "b6d5ca5728c3be63",
   "outputs": [],
   "execution_count": null
  },
  {
   "metadata": {},
   "cell_type": "markdown",
   "source": "You can have your model tested by inputting your model:",
   "id": "721d449f8c5b9bd4"
  },
  {
   "metadata": {},
   "cell_type": "code",
   "source": [
    "test_suite: TestSuite = TestSuite()\n",
    "\n",
    "# Example LeakyBucket Inputs, copy and/or change this to test your model\n",
    "model_name = 'LeakyBucket'              # Your model name\n",
    "model_type = 'Lumped'                   # Lumped or Distributed\n",
    "output_variable_name = 'discharge'      # Main output variable\n",
    "parameter_set_name = None               # Specific parameter set name\n",
    "setup_variables = {\"leakiness\": 1}      # Any setup variables used\n",
    "custom_forcing_name = None              # Custom forcing names\n",
    "custom_forcing_variables = None         # Custom Forcing variables\n",
    "\n",
    "result: dict = test_suite.run_all(model_name, model_type, output_variable_name, parameter_set_name, setup_variables, custom_forcing_name, custom_forcing_variables)\n",
    "\n",
    "\n",
    "if result[c.SUITE_PASSED_ATTRIBUTE]:\n",
    "    # some sort of verification that lets the system know that\n",
    "    # the branch is tested and can be removed from db\n",
    "    print(\"tests passed!\")\n",
    "else:\n",
    "    print(\"tests failed!\")\n",
    "\n",
    "# you can add a filename as extra argument, otherwise filename will be testReport\n",
    "print(\"Generating Yaml\")\n",
    "GenerateReport.generate_report_yaml(yaml.dump(result), os.path.join(os.getcwd(), 'output'))\n",
    "print(\"Generating MarkDown\")\n",
    "GenerateReport.generate_mark_down(result, os.path.join(os.getcwd(), 'output'), \"output\", \"model_name\")"
   ],
   "id": "6ed53bb7c7c3954a",
   "outputs": [],
   "execution_count": null
  },
  {
   "metadata": {},
   "cell_type": "markdown",
   "source": "Test reports should be deposited in the output folder.",
   "id": "c592ec1a5471e2c2"
  }
 ],
 "metadata": {
  "kernelspec": {
   "display_name": "Python 3",
   "language": "python",
   "name": "python3"
  },
  "language_info": {
   "codemirror_mode": {
    "name": "ipython",
    "version": 2
   },
   "file_extension": ".py",
   "mimetype": "text/x-python",
   "name": "python",
   "nbconvert_exporter": "python",
   "pygments_lexer": "ipython2",
   "version": "2.7.6"
  }
 },
 "nbformat": 4,
 "nbformat_minor": 5
}
